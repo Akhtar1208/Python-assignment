{
 "cells": [
  {
   "cell_type": "code",
   "execution_count": 1,
   "id": "a6c7a1bf",
   "metadata": {},
   "outputs": [
    {
     "name": "stdout",
     "output_type": "stream",
     "text": [
      "enter number2\n",
      "2.485484\n"
     ]
    }
   ],
   "source": [
    "x=int(input(\"enter number\"))\n",
    "y=x * 0.621371\n",
    "print(x*y)"
   ]
  },
  {
   "cell_type": "code",
   "execution_count": 2,
   "id": "3b1e66ba",
   "metadata": {},
   "outputs": [
    {
     "name": "stdout",
     "output_type": "stream",
     "text": [
      "enter number67\n",
      "152.6 farhenheit\n"
     ]
    }
   ],
   "source": [
    "c=int(input(\"enter number\"))\n",
    "f=(c * 9/5) + 32 \n",
    "print(f, \"farhenheit\")"
   ]
  },
  {
   "cell_type": "code",
   "execution_count": 3,
   "id": "ee5576d5",
   "metadata": {},
   "outputs": [
    {
     "name": "stdout",
     "output_type": "stream",
     "text": [
      "enter year2022\n",
      "enter month12\n",
      "   December 2022\n",
      "Mo Tu We Th Fr Sa Su\n",
      "          1  2  3  4\n",
      " 5  6  7  8  9 10 11\n",
      "12 13 14 15 16 17 18\n",
      "19 20 21 22 23 24 25\n",
      "26 27 28 29 30 31\n",
      "\n"
     ]
    }
   ],
   "source": [
    "import calendar\n",
    "yy= int(input(\"enter year\"))\n",
    "mm=int(input(\"enter month\"))\n",
    "print(calendar.month(yy,mm))"
   ]
  },
  {
   "cell_type": "code",
   "execution_count": null,
   "id": "1bca5a4e",
   "metadata": {},
   "outputs": [],
   "source": []
  },
  {
   "cell_type": "code",
   "execution_count": 4,
   "id": "1abfaca8",
   "metadata": {},
   "outputs": [
    {
     "name": "stdout",
     "output_type": "stream",
     "text": [
      "enter a number (a!=0): 1\n",
      "enter a number: 9\n",
      "enter a number: 81\n",
      "the roots are (-4.5-7.794228634059948j) and (-4.5-7.794228634059948j)\n"
     ]
    }
   ],
   "source": [
    "import cmath\n",
    "\n",
    "a=int(input(\"enter a number (a!=0): \"))\n",
    "b=int(input(\"enter a number: \"))\n",
    "c=int(input(\"enter a number: \"))\n",
    "\n",
    "d= (b**2) -(4*a*c)\n",
    "\n",
    "root1=(-b-cmath.sqrt(d))/(2*a)\n",
    "root2=(-b-cmath.sqrt(d))/(2*a)\n",
    "\n",
    "print(\"the roots are\",root1, \"and\", root2)"
   ]
  },
  {
   "cell_type": "code",
   "execution_count": 5,
   "id": "dd627910",
   "metadata": {},
   "outputs": [
    {
     "name": "stdout",
     "output_type": "stream",
     "text": [
      "x = 20 y= 10\n"
     ]
    }
   ],
   "source": [
    "x=10\n",
    "y=20\n",
    "x,y=y,x\n",
    "print (\"x =\", x,\"y=\", y)"
   ]
  }
 ],
 "metadata": {
  "kernelspec": {
   "display_name": "Python 3 (ipykernel)",
   "language": "python",
   "name": "python3"
  },
  "language_info": {
   "codemirror_mode": {
    "name": "ipython",
    "version": 3
   },
   "file_extension": ".py",
   "mimetype": "text/x-python",
   "name": "python",
   "nbconvert_exporter": "python",
   "pygments_lexer": "ipython3",
   "version": "3.9.13"
  }
 },
 "nbformat": 4,
 "nbformat_minor": 5
}
