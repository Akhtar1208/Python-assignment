{
 "cells": [
  {
   "cell_type": "code",
   "execution_count": 1,
   "id": "b54042d0",
   "metadata": {},
   "outputs": [],
   "source": [
    "a= \"Hello Python\""
   ]
  },
  {
   "cell_type": "code",
   "execution_count": 3,
   "id": "a437331e",
   "metadata": {},
   "outputs": [
    {
     "name": "stdout",
     "output_type": "stream",
     "text": [
      "Hello Python\n"
     ]
    }
   ],
   "source": [
    "print (a)"
   ]
  },
  {
   "cell_type": "code",
   "execution_count": 10,
   "id": "717c775e",
   "metadata": {},
   "outputs": [
    {
     "name": "stdout",
     "output_type": "stream",
     "text": [
      "enter the number2\n",
      "enter the number2\n",
      "4\n",
      "1.0\n"
     ]
    }
   ],
   "source": [
    "a= int(input(\"enter the number\"))\n",
    "b= int(input(\"enter the number\"))\n",
    "c= a*b\n",
    "print(c)\n",
    "d =a/b\n",
    "print(d)"
   ]
  },
  {
   "cell_type": "code",
   "execution_count": 12,
   "id": "9129041f",
   "metadata": {},
   "outputs": [
    {
     "name": "stdout",
     "output_type": "stream",
     "text": [
      "enter the number10\n",
      "enter the number10\n",
      "50.0\n"
     ]
    }
   ],
   "source": [
    "b= int(input(\"enter the number\"))\n",
    "h=int(input(\"enter the number\"))\n",
    "formula= 0.5*b*h\n",
    "print(formula)"
   ]
  },
  {
   "cell_type": "code",
   "execution_count": 15,
   "id": "7f6b76a3",
   "metadata": {},
   "outputs": [
    {
     "name": "stdout",
     "output_type": "stream",
     "text": [
      "a equals :  12\n",
      "b equals :  9\n"
     ]
    }
   ],
   "source": [
    "a=9\n",
    "b=12\n",
    "a,b=b,a\n",
    "print('a equals : ', a)\n",
    "print('b equals : ', b)"
   ]
  },
  {
   "cell_type": "code",
   "execution_count": 22,
   "id": "15f8248f",
   "metadata": {},
   "outputs": [
    {
     "name": "stdout",
     "output_type": "stream",
     "text": [
      "1\n"
     ]
    }
   ],
   "source": [
    "import random\n",
    "print(random.randint(0,9))"
   ]
  },
  {
   "cell_type": "code",
   "execution_count": null,
   "id": "7827b16c",
   "metadata": {},
   "outputs": [],
   "source": []
  }
 ],
 "metadata": {
  "kernelspec": {
   "display_name": "Python 3 (ipykernel)",
   "language": "python",
   "name": "python3"
  },
  "language_info": {
   "codemirror_mode": {
    "name": "ipython",
    "version": 3
   },
   "file_extension": ".py",
   "mimetype": "text/x-python",
   "name": "python",
   "nbconvert_exporter": "python",
   "pygments_lexer": "ipython3",
   "version": "3.9.13"
  }
 },
 "nbformat": 4,
 "nbformat_minor": 5
}
