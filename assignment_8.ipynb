{
 "cells": [
  {
   "cell_type": "code",
   "execution_count": 16,
   "id": "bba05d8f",
   "metadata": {},
   "outputs": [
    {
     "name": "stdout",
     "output_type": "stream",
     "text": [
      "['hey', 'my', 'name', 'is', 'akhtar', 'and', 'i', 'am', 'from', 'bihar']\n",
      "akhtar\n",
      "am\n",
      "and\n",
      "bihar\n",
      "from\n",
      "hey\n",
      "i\n",
      "is\n",
      "my\n",
      "name\n"
     ]
    }
   ],
   "source": [
    "a=\"Hey my name is akhtar and i am from Bihar\"\n",
    "w=a.split()\n",
    "for i in range(len(w)):\n",
    "    w[i]=w[i].lower()\n",
    "\n",
    "print(w)\n",
    "w.sort()\n",
    "for i in w:\n",
    "    print(i)"
   ]
  },
  {
   "cell_type": "code",
   "execution_count": 20,
   "id": "44574608",
   "metadata": {},
   "outputs": [
    {
     "name": "stdout",
     "output_type": "stream",
     "text": [
      "[3, 7, 10]\n",
      "[13, 12, 8]\n",
      "[10, 13, 9]\n"
     ]
    }
   ],
   "source": [
    "a=[[1,4,6],\n",
    "    [8,6,1],\n",
    "    [2,4,8]]\n",
    "b=[[2,3,4],\n",
    "    [5,6,7],\n",
    "    [8,9,1]]\n",
    "\n",
    "result=[[0,0,0],\n",
    "         [0,0,0],\n",
    "         [0,0,0]]\n",
    "for i in range(len(a)):\n",
    "    for j in range (len(a[0])):\n",
    "        result[i][j]=a[i][j]+b[i][j]\n",
    "\n",
    "for r in result:\n",
    "    print (r)"
   ]
  },
  {
   "cell_type": "code",
   "execution_count": 24,
   "id": "4170c3ca",
   "metadata": {},
   "outputs": [
    {
     "name": "stdout",
     "output_type": "stream",
     "text": [
      "[70, 81]\n",
      "[54, 69]\n",
      "[88, 102]\n"
     ]
    }
   ],
   "source": [
    "a=[[1,4,6],\n",
    "    [8,6,1],\n",
    "    [2,4,8]]\n",
    "b=[[2,3],\n",
    "    [5,6],\n",
    "    [8,9]]\n",
    "\n",
    "result=[[0,0],\n",
    "         [0,0],\n",
    "         [0,0]]\n",
    "\n",
    "for i in range(0,len(result)):\n",
    "    for j in range(0,len(result[0])):\n",
    "        for k in range(0,len(b)):\n",
    "            result[i][j]+=a[i][k]*b[k][j]\n",
    "for row in result:\n",
    "    print(row)"
   ]
  },
  {
   "cell_type": "code",
   "execution_count": 27,
   "id": "98f222d5",
   "metadata": {},
   "outputs": [
    {
     "name": "stdout",
     "output_type": "stream",
     "text": [
      "[1, 4]\n",
      "[2, 5]\n",
      "[3, 6]\n"
     ]
    }
   ],
   "source": [
    "a=[[1,2,3],\n",
    "    [4,5,6]]\n",
    "\n",
    "result=[[0,0],\n",
    "         [0,0],\n",
    "         [0,0]]\n",
    "\n",
    "for i in range (len(a)):\n",
    "    for j in range(len(a[0])):\n",
    "        result[j][i]=a[i][j]\n",
    "for i in (result):\n",
    "    print (i)"
   ]
  },
  {
   "cell_type": "code",
   "execution_count": 28,
   "id": "ccd9bba6",
   "metadata": {},
   "outputs": [
    {
     "name": "stdout",
     "output_type": "stream",
     "text": [
      "enter herehello!!! @how are you@ <can you write this code>\n",
      "hello how are you can you write this code\n"
     ]
    }
   ],
   "source": [
    "punc= ''';;/\\-[]{}!()<>@#%^&*_~`'''\n",
    "string=input(\"enter here\")\n",
    "empty_str=\"\"\n",
    "\n",
    "for i in string:\n",
    "    if i not in punc:\n",
    "        empty_str=empty_str+i\n",
    "print(empty_str)"
   ]
  },
  {
   "cell_type": "code",
   "execution_count": null,
   "id": "570cefe0",
   "metadata": {},
   "outputs": [],
   "source": []
  }
 ],
 "metadata": {
  "kernelspec": {
   "display_name": "Python 3 (ipykernel)",
   "language": "python",
   "name": "python3"
  },
  "language_info": {
   "codemirror_mode": {
    "name": "ipython",
    "version": 3
   },
   "file_extension": ".py",
   "mimetype": "text/x-python",
   "name": "python",
   "nbconvert_exporter": "python",
   "pygments_lexer": "ipython3",
   "version": "3.9.13"
  }
 },
 "nbformat": 4,
 "nbformat_minor": 5
}
